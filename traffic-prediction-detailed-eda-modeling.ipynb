{
 "cells": [
  {
   "cell_type": "code",
   "execution_count": 118,
   "id": "fbfb4497",
   "metadata": {
    "execution": {
     "iopub.execute_input": "2024-08-02T20:31:02.645067Z",
     "iopub.status.busy": "2024-08-02T20:31:02.644499Z",
     "iopub.status.idle": "2024-08-02T20:31:06.172696Z",
     "shell.execute_reply": "2024-08-02T20:31:06.171271Z"
    },
    "papermill": {
     "duration": 3.545446,
     "end_time": "2024-08-02T20:31:06.175445",
     "exception": false,
     "start_time": "2024-08-02T20:31:02.629999",
     "status": "completed"
    },
    "tags": []
   },
   "outputs": [],
   "source": [
    "# Import necessary libraries\n",
    "import pandas as pd\n",
    "import numpy as np\n",
    "import matplotlib.pyplot as plt\n",
    "import plotly.express as px\n",
    "import plotly.graph_objects as go\n",
    "from plotly.subplots import make_subplots\n",
    "import seaborn as sns\n",
    "from scipy.stats import shapiro\n",
    "from sklearn.preprocessing import QuantileTransformer, StandardScaler, OneHotEncoder\n",
    "from sklearn.model_selection import train_test_split\n",
    "from sklearn.ensemble import RandomForestClassifier\n",
    "from sklearn.metrics import classification_report, accuracy_score\n",
    "from sklearn.compose import ColumnTransformer\n",
    "from sklearn.pipeline import Pipeline"
   ]
  },
  {
   "cell_type": "code",
   "execution_count": 119,
   "id": "860cc96a",
   "metadata": {
    "execution": {
     "iopub.execute_input": "2024-08-02T20:31:06.198161Z",
     "iopub.status.busy": "2024-08-02T20:31:06.197601Z",
     "iopub.status.idle": "2024-08-02T20:31:06.203840Z",
     "shell.execute_reply": "2024-08-02T20:31:06.202678Z"
    },
    "papermill": {
     "duration": 0.020267,
     "end_time": "2024-08-02T20:31:06.206311",
     "exception": false,
     "start_time": "2024-08-02T20:31:06.186044",
     "status": "completed"
    },
    "tags": []
   },
   "outputs": [],
   "source": [
    "# Display settings\n",
    "pd.set_option('display.max_columns', None)\n",
    "sns.set(style=\"whitegrid\")"
   ]
  },
  {
   "cell_type": "code",
   "execution_count": 120,
   "id": "40122e1b",
   "metadata": {
    "execution": {
     "iopub.execute_input": "2024-08-02T20:31:06.250268Z",
     "iopub.status.busy": "2024-08-02T20:31:06.249914Z",
     "iopub.status.idle": "2024-08-02T20:31:06.300832Z",
     "shell.execute_reply": "2024-08-02T20:31:06.299711Z"
    },
    "papermill": {
     "duration": 0.065184,
     "end_time": "2024-08-02T20:31:06.303549",
     "exception": false,
     "start_time": "2024-08-02T20:31:06.238365",
     "status": "completed"
    },
    "tags": []
   },
   "outputs": [],
   "source": [
    "# Load datasets\n",
    "traffic_df = pd.read_csv('data/Traffic.csv')"
   ]
  },
  {
   "cell_type": "code",
   "execution_count": 121,
   "id": "166cc9b1",
   "metadata": {
    "execution": {
     "iopub.execute_input": "2024-08-02T20:31:06.326758Z",
     "iopub.status.busy": "2024-08-02T20:31:06.326233Z",
     "iopub.status.idle": "2024-08-02T20:31:06.347761Z",
     "shell.execute_reply": "2024-08-02T20:31:06.346541Z"
    },
    "papermill": {
     "duration": 0.035904,
     "end_time": "2024-08-02T20:31:06.350313",
     "exception": false,
     "start_time": "2024-08-02T20:31:06.314409",
     "status": "completed"
    },
    "tags": []
   },
   "outputs": [
    {
     "data": {
      "text/plain": [
       "Traffic Situation\n",
       "normal    1669\n",
       "heavy      682\n",
       "high       321\n",
       "low        304\n",
       "Name: count, dtype: int64"
      ]
     },
     "execution_count": 121,
     "metadata": {},
     "output_type": "execute_result"
    }
   ],
   "source": [
    "traffic_df['Traffic Situation'].value_counts()"
   ]
  },
  {
   "cell_type": "code",
   "execution_count": 122,
   "id": "5185f6e6",
   "metadata": {
    "execution": {
     "iopub.execute_input": "2024-08-02T20:31:06.428365Z",
     "iopub.status.busy": "2024-08-02T20:31:06.427311Z",
     "iopub.status.idle": "2024-08-02T20:31:08.496538Z",
     "shell.execute_reply": "2024-08-02T20:31:08.495343Z"
    },
    "papermill": {
     "duration": 2.084262,
     "end_time": "2024-08-02T20:31:08.498986",
     "exception": false,
     "start_time": "2024-08-02T20:31:06.414724",
     "status": "completed"
    },
    "tags": []
   },
   "outputs": [],
   "source": [
    "# 1. Distribution of vehicle counts for cars, bikes, buses, and trucks\n",
    "fig = make_subplots(rows=2, cols=2, subplot_titles=(\"Car Counts\", \"Bike Counts\", \"Bus Counts\", \"Truck Counts\"))\n",
    "\n",
    "fig.add_trace(go.Histogram(x=traffic_df['CarCount'], name='Car Counts', marker_color='#1f77b4'), row=1, col=1)\n",
    "fig.add_trace(go.Histogram(x=traffic_df['BikeCount'], name='Bike Counts', marker_color='#ff7f0e'), row=1, col=2)\n",
    "fig.add_trace(go.Histogram(x=traffic_df['BusCount'], name='Bus Counts', marker_color='#2ca02c'), row=2, col=1)\n",
    "fig.add_trace(go.Histogram(x=traffic_df['TruckCount'], name='Truck Counts', marker_color='#d62728'), row=2, col=2)\n",
    "\n",
    "fig.update_layout(title_text='Distribution of Vehicle Counts', title_x=0.5, showlegend=False, template='plotly_white')\n",
    "fig.update_xaxes(title_text=\"Count\")\n",
    "fig.update_yaxes(title_text=\"Frequency\")\n",
    "fig.show(renderer=\"browser\")"
   ]
  },
  {
   "cell_type": "markdown",
   "id": "d6e1222c",
   "metadata": {},
   "source": [
    "![alt text](VehicleCounts.png \"Title\")"
   ]
  },
  {
   "cell_type": "code",
   "execution_count": 123,
   "id": "165fbcc5",
   "metadata": {
    "execution": {
     "iopub.execute_input": "2024-08-02T20:31:08.525444Z",
     "iopub.status.busy": "2024-08-02T20:31:08.525020Z",
     "iopub.status.idle": "2024-08-02T20:31:08.703379Z",
     "shell.execute_reply": "2024-08-02T20:31:08.702108Z"
    },
    "papermill": {
     "duration": 0.197861,
     "end_time": "2024-08-02T20:31:08.709267",
     "exception": false,
     "start_time": "2024-08-02T20:31:08.511406",
     "status": "completed"
    },
    "tags": []
   },
   "outputs": [],
   "source": [
    "# 3. Distribution of traffic situations\n",
    "fig = px.pie(traffic_df, names='Traffic Situation', title='Traffic Situation Distribution', color_discrete_sequence=px.colors.sequential.RdBu)\n",
    "fig.update_layout(title_text='Traffic Situation Distribution', title_x=0.5, template='plotly_white')\n",
    "fig.show(renderer=\"browser\")"
   ]
  },
  {
   "cell_type": "markdown",
   "id": "fe91e15b",
   "metadata": {},
   "source": [
    "![alt text](TrafficSituations.png \"Title\")"
   ]
  },
  {
   "cell_type": "code",
   "execution_count": 124,
   "id": "1ced90ba",
   "metadata": {
    "execution": {
     "iopub.execute_input": "2024-08-02T20:31:08.739843Z",
     "iopub.status.busy": "2024-08-02T20:31:08.739422Z",
     "iopub.status.idle": "2024-08-02T20:31:08.923461Z",
     "shell.execute_reply": "2024-08-02T20:31:08.922209Z"
    },
    "papermill": {
     "duration": 0.209966,
     "end_time": "2024-08-02T20:31:08.933296",
     "exception": false,
     "start_time": "2024-08-02T20:31:08.723330",
     "status": "completed"
    },
    "tags": []
   },
   "outputs": [],
   "source": [
    "# 4. Vehicle count vary by day of the week\n",
    "fig = make_subplots(rows=2, cols=2, subplot_titles=(\"Car Counts by Day\", \"Bike Counts by Day\", \"Bus Counts by Day\", \"Truck Counts by Day\"))\n",
    "\n",
    "fig.add_trace(go.Box(x=traffic_df['Day of the week'], y=traffic_df['CarCount'], name='Car Counts', marker_color='#1f77b4'), row=1, col=1)\n",
    "fig.add_trace(go.Box(x=traffic_df['Day of the week'], y=traffic_df['BikeCount'], name='Bike Counts', marker_color='#ff7f0e'), row=1, col=2)\n",
    "fig.add_trace(go.Box(x=traffic_df['Day of the week'], y=traffic_df['BusCount'], name='Bus Counts', marker_color='#2ca02c'), row=2, col=1)\n",
    "fig.add_trace(go.Box(x=traffic_df['Day of the week'], y=traffic_df['TruckCount'], name='Truck Counts', marker_color='#d62728'), row=2, col=2)\n",
    "\n",
    "fig.update_layout(title_text='Vehicle Counts by Day of the Week', title_x=0.5, showlegend=False, template='plotly_white')\n",
    "fig.update_xaxes(title_text=\"Day of the Week\")\n",
    "fig.update_yaxes(title_text=\"Count\")\n",
    "fig.show(renderer=\"browser\")"
   ]
  },
  {
   "cell_type": "markdown",
   "id": "4f4c0743",
   "metadata": {},
   "source": [
    "![alt text](VehicleCountByDayOfWeek.png \"Title\")"
   ]
  },
  {
   "cell_type": "code",
   "execution_count": 125,
   "id": "52d112db",
   "metadata": {
    "execution": {
     "iopub.execute_input": "2024-08-02T20:31:09.207230Z",
     "iopub.status.busy": "2024-08-02T20:31:09.206850Z",
     "iopub.status.idle": "2024-08-02T20:31:09.327248Z",
     "shell.execute_reply": "2024-08-02T20:31:09.325975Z"
    },
    "papermill": {
     "duration": 0.155738,
     "end_time": "2024-08-02T20:31:09.331351",
     "exception": false,
     "start_time": "2024-08-02T20:31:09.175613",
     "status": "completed"
    },
    "tags": []
   },
   "outputs": [],
   "source": [
    "# 9. Total vehicle count by traffic situation\n",
    "fig = px.box(traffic_df, x='Traffic Situation', y='Total', title='Total Vehicle Count by Traffic Situation', color_discrete_sequence=px.colors.sequential.RdBu)\n",
    "fig.update_layout(title_text='Total Vehicle Count by Traffic Situation', title_x=0.5, xaxis_title='Traffic Situation', yaxis_title='Total Count', template='plotly_white')\n",
    "fig.show(renderer=\"browser\")"
   ]
  },
  {
   "cell_type": "markdown",
   "id": "fcebf410",
   "metadata": {},
   "source": [
    "![alt text](VehicleCountByTrafficSituation.png \"Title\")"
   ]
  },
  {
   "cell_type": "code",
   "execution_count": 126,
   "id": "0ed51972",
   "metadata": {},
   "outputs": [
    {
     "data": {
      "text/html": [
       "<div>\n",
       "<style scoped>\n",
       "    .dataframe tbody tr th:only-of-type {\n",
       "        vertical-align: middle;\n",
       "    }\n",
       "\n",
       "    .dataframe tbody tr th {\n",
       "        vertical-align: top;\n",
       "    }\n",
       "\n",
       "    .dataframe thead th {\n",
       "        text-align: right;\n",
       "    }\n",
       "</style>\n",
       "<table border=\"1\" class=\"dataframe\">\n",
       "  <thead>\n",
       "    <tr style=\"text-align: right;\">\n",
       "      <th></th>\n",
       "      <th>Time</th>\n",
       "      <th>Date</th>\n",
       "      <th>Day of the week</th>\n",
       "      <th>CarCount</th>\n",
       "      <th>BikeCount</th>\n",
       "      <th>BusCount</th>\n",
       "      <th>TruckCount</th>\n",
       "      <th>Total</th>\n",
       "      <th>Traffic Situation</th>\n",
       "    </tr>\n",
       "  </thead>\n",
       "  <tbody>\n",
       "    <tr>\n",
       "      <th>0</th>\n",
       "      <td>12:00:00 AM</td>\n",
       "      <td>10</td>\n",
       "      <td>Tuesday</td>\n",
       "      <td>31</td>\n",
       "      <td>0</td>\n",
       "      <td>4</td>\n",
       "      <td>4</td>\n",
       "      <td>39</td>\n",
       "      <td>low</td>\n",
       "    </tr>\n",
       "    <tr>\n",
       "      <th>1</th>\n",
       "      <td>12:15:00 AM</td>\n",
       "      <td>10</td>\n",
       "      <td>Tuesday</td>\n",
       "      <td>49</td>\n",
       "      <td>0</td>\n",
       "      <td>3</td>\n",
       "      <td>3</td>\n",
       "      <td>55</td>\n",
       "      <td>low</td>\n",
       "    </tr>\n",
       "    <tr>\n",
       "      <th>2</th>\n",
       "      <td>12:30:00 AM</td>\n",
       "      <td>10</td>\n",
       "      <td>Tuesday</td>\n",
       "      <td>46</td>\n",
       "      <td>0</td>\n",
       "      <td>3</td>\n",
       "      <td>6</td>\n",
       "      <td>55</td>\n",
       "      <td>low</td>\n",
       "    </tr>\n",
       "    <tr>\n",
       "      <th>3</th>\n",
       "      <td>12:45:00 AM</td>\n",
       "      <td>10</td>\n",
       "      <td>Tuesday</td>\n",
       "      <td>51</td>\n",
       "      <td>0</td>\n",
       "      <td>2</td>\n",
       "      <td>5</td>\n",
       "      <td>58</td>\n",
       "      <td>low</td>\n",
       "    </tr>\n",
       "    <tr>\n",
       "      <th>4</th>\n",
       "      <td>1:00:00 AM</td>\n",
       "      <td>10</td>\n",
       "      <td>Tuesday</td>\n",
       "      <td>57</td>\n",
       "      <td>6</td>\n",
       "      <td>15</td>\n",
       "      <td>16</td>\n",
       "      <td>94</td>\n",
       "      <td>normal</td>\n",
       "    </tr>\n",
       "  </tbody>\n",
       "</table>\n",
       "</div>"
      ],
      "text/plain": [
       "          Time  Date Day of the week  CarCount  BikeCount  BusCount  \\\n",
       "0  12:00:00 AM    10         Tuesday        31          0         4   \n",
       "1  12:15:00 AM    10         Tuesday        49          0         3   \n",
       "2  12:30:00 AM    10         Tuesday        46          0         3   \n",
       "3  12:45:00 AM    10         Tuesday        51          0         2   \n",
       "4   1:00:00 AM    10         Tuesday        57          6        15   \n",
       "\n",
       "   TruckCount  Total Traffic Situation  \n",
       "0           4     39               low  \n",
       "1           3     55               low  \n",
       "2           6     55               low  \n",
       "3           5     58               low  \n",
       "4          16     94            normal  "
      ]
     },
     "execution_count": 126,
     "metadata": {},
     "output_type": "execute_result"
    }
   ],
   "source": [
    "traffic_df.head()"
   ]
  },
  {
   "cell_type": "code",
   "execution_count": 127,
   "id": "876c2091",
   "metadata": {
    "execution": {
     "iopub.execute_input": "2024-08-02T20:31:09.644059Z",
     "iopub.status.busy": "2024-08-02T20:31:09.643691Z",
     "iopub.status.idle": "2024-08-02T20:31:09.736071Z",
     "shell.execute_reply": "2024-08-02T20:31:09.734814Z"
    },
    "papermill": {
     "duration": 0.134585,
     "end_time": "2024-08-02T20:31:09.738955",
     "exception": false,
     "start_time": "2024-08-02T20:31:09.604370",
     "status": "completed"
    },
    "tags": []
   },
   "outputs": [],
   "source": [
    "# 11. Busiest hours of the day for traffic\n",
    "traffic_df['Hour'] = pd.to_datetime(traffic_df['Time'], format='%I:%M:%S %p').dt.hour\n",
    "fig = px.box(traffic_df, x='Hour', y='Total', title='Total Vehicle Count by Hour', color_discrete_sequence=['#9467bd'])\n",
    "fig.update_layout(title_text='Total Vehicle Count by Hour', title_x=0.5, xaxis_title='Hour', yaxis_title='Total Count', template='plotly_white')\n",
    "fig.show(renderer=\"browser\")"
   ]
  },
  {
   "cell_type": "markdown",
   "id": "bac4deb6",
   "metadata": {},
   "source": [
    "![alt text](TotalVehicleCountByHour.png \"Title\")"
   ]
  },
  {
   "cell_type": "code",
   "execution_count": 128,
   "id": "5dbc9c58",
   "metadata": {
    "execution": {
     "iopub.execute_input": "2024-08-02T20:31:10.033106Z",
     "iopub.status.busy": "2024-08-02T20:31:10.032705Z",
     "iopub.status.idle": "2024-08-02T20:31:10.480008Z",
     "shell.execute_reply": "2024-08-02T20:31:10.478547Z"
    },
    "papermill": {
     "duration": 0.49528,
     "end_time": "2024-08-02T20:31:10.483093",
     "exception": false,
     "start_time": "2024-08-02T20:31:09.987813",
     "status": "completed"
    },
    "tags": []
   },
   "outputs": [
    {
     "data": {
      "image/png": "[encoded data removed]",
      "text/plain": [
       "<Figure size 640x480 with 2 Axes>"
      ]
     },
     "metadata": {},
     "output_type": "display_data"
    }
   ],
   "source": [
    "# 13. Correlations between different vehicle types\n",
    "corr_matrix = traffic_df[['CarCount', 'BikeCount', 'BusCount', 'TruckCount', 'Total']].corr()\n",
    "sns.heatmap(corr_matrix, annot=True, cmap='coolwarm')\n",
    "plt.title('Correlation Matrix of Vehicle Counts')\n",
    "plt.show()"
   ]
  },
  {
   "cell_type": "code",
   "execution_count": 129,
   "id": "613296ba",
   "metadata": {
    "execution": {
     "iopub.execute_input": "2024-08-02T20:31:10.574467Z",
     "iopub.status.busy": "2024-08-02T20:31:10.574073Z",
     "iopub.status.idle": "2024-08-02T20:31:10.732414Z",
     "shell.execute_reply": "2024-08-02T20:31:10.730984Z"
    },
    "papermill": {
     "duration": 0.209931,
     "end_time": "2024-08-02T20:31:10.738274",
     "exception": false,
     "start_time": "2024-08-02T20:31:10.528343",
     "status": "completed"
    },
    "tags": []
   },
   "outputs": [],
   "source": [
    "# 16. Distribution of vehicle counts between weekdays and weekends\n",
    "traffic_df['Weekend'] = traffic_df['Day of the week'].isin(['Saturday', 'Sunday'])\n",
    "fig = make_subplots(rows=2, cols=2, subplot_titles=(\"Car Counts by Weekend\", \"Bike Counts by Weekend\", \"Bus Counts by Weekend\", \"Truck Counts by Weekend\"))\n",
    "\n",
    "fig.add_trace(go.Box(x=traffic_df['Weekend'], y=traffic_df['CarCount'], name='Car Counts', marker_color='#1f77b4'), row=1, col=1)\n",
    "fig.add_trace(go.Box(x=traffic_df['Weekend'], y=traffic_df['BikeCount'], name='Bike Counts', marker_color='#ff7f0e'), row=1, col=2)\n",
    "fig.add_trace(go.Box(x=traffic_df['Weekend'], y=traffic_df['BusCount'], name='Bus Counts', marker_color='#2ca02c'), row=2, col=1)\n",
    "fig.add_trace(go.Box(x=traffic_df['Weekend'], y=traffic_df['TruckCount'], name='Truck Counts', marker_color='#d62728'), row=2, col=2)\n",
    "\n",
    "fig.update_layout(title_text='Vehicle Counts by Weekend', title_x=0.5, showlegend=False, template='plotly_white')\n",
    "fig.update_xaxes(title_text=\"Weekend\")\n",
    "fig.update_yaxes(title_text=\"Count\")\n",
    "fig.show(renderer=\"browser\")\n"
   ]
  },
  {
   "cell_type": "markdown",
   "id": "c9991190",
   "metadata": {},
   "source": [
    "![alt text](VehicleCountsByWeekend.png \"Title\")"
   ]
  },
  {
   "cell_type": "code",
   "execution_count": 130,
   "id": "f9a88364",
   "metadata": {
    "execution": {
     "iopub.execute_input": "2024-08-02T20:31:10.838903Z",
     "iopub.status.busy": "2024-08-02T20:31:10.837458Z",
     "iopub.status.idle": "2024-08-02T20:31:10.938624Z",
     "shell.execute_reply": "2024-08-02T20:31:10.937554Z"
    },
    "papermill": {
     "duration": 0.155197,
     "end_time": "2024-08-02T20:31:10.941957",
     "exception": false,
     "start_time": "2024-08-02T20:31:10.786760",
     "status": "completed"
    },
    "tags": []
   },
   "outputs": [],
   "source": [
    "# 18. Distribution of traffic situations by hour\n",
    "fig = px.box(traffic_df, x='Hour', y='Traffic Situation', title='Traffic Situation by Hour', color_discrete_sequence=px.colors.sequential.RdBu)\n",
    "fig.update_layout(title_text='Traffic Situation by Hour', title_x=0.5, xaxis_title='Hour', yaxis_title='Traffic Situation', template='plotly_white')\n",
    "fig.show(renderer=\"browser\")"
   ]
  },
  {
   "cell_type": "markdown",
   "id": "6f145455",
   "metadata": {},
   "source": [
    "![alt text](TrafficSituationByHour.png \"Title\")"
   ]
  },
  {
   "cell_type": "code",
   "execution_count": 131,
   "id": "504c64a0",
   "metadata": {
    "execution": {
     "iopub.execute_input": "2024-08-02T20:31:11.275068Z",
     "iopub.status.busy": "2024-08-02T20:31:11.274677Z",
     "iopub.status.idle": "2024-08-02T20:31:11.380894Z",
     "shell.execute_reply": "2024-08-02T20:31:11.379535Z"
    },
    "papermill": {
     "duration": 0.163613,
     "end_time": "2024-08-02T20:31:11.385011",
     "exception": false,
     "start_time": "2024-08-02T20:31:11.221398",
     "status": "completed"
    },
    "tags": []
   },
   "outputs": [],
   "source": [
    "# 20. Distribution of total vehicle counts for each day of the week\n",
    "fig = px.box(traffic_df, x='Day of the week', y='Total', title='Total Vehicle Count by Day of the Week', color_discrete_sequence=['#9467bd'])\n",
    "fig.update_layout(title_text='Total Vehicle Count by Day of the Week', title_x=0.5, xaxis_title='Day of the Week', yaxis_title='Total Count', template='plotly_white')\n",
    "fig.show(renderer=\"browser\")"
   ]
  },
  {
   "cell_type": "markdown",
   "id": "dc59ee51",
   "metadata": {},
   "source": [
    "![alt text](TotalvehicleCountByDayofWeek.png \"Title\")"
   ]
  },
  {
   "cell_type": "code",
   "execution_count": 132,
   "id": "fae4408b",
   "metadata": {
    "execution": {
     "iopub.execute_input": "2024-08-02T20:31:12.025863Z",
     "iopub.status.busy": "2024-08-02T20:31:12.024752Z",
     "iopub.status.idle": "2024-08-02T20:31:12.105156Z",
     "shell.execute_reply": "2024-08-02T20:31:12.104006Z"
    },
    "papermill": {
     "duration": 0.145958,
     "end_time": "2024-08-02T20:31:12.109193",
     "exception": false,
     "start_time": "2024-08-02T20:31:11.963235",
     "status": "completed"
    },
    "tags": []
   },
   "outputs": [],
   "source": [
    "# 25. Peak traffic hours for each vehicle type\n",
    "fig = make_subplots(rows=2, cols=2, subplot_titles=(\"Car Counts by Hour\", \"Bike Counts by Hour\", \"Bus Counts by Hour\", \"Truck Counts by Hour\"))\n",
    "\n",
    "fig.add_trace(go.Box(x=traffic_df['Hour'], y=traffic_df['CarCount'], name='Car Counts', marker_color='#1f77b4'), row=1, col=1)\n",
    "fig.add_trace(go.Box(x=traffic_df['Hour'], y=traffic_df['BikeCount'], name='Bike Counts', marker_color='#ff7f0e'), row=1, col=2)\n",
    "fig.add_trace(go.Box(x=traffic_df['Hour'], y=traffic_df['BusCount'], name='Bus Counts', marker_color='#2ca02c'), row=2, col=1)\n",
    "fig.add_trace(go.Box(x=traffic_df['Hour'], y=traffic_df['TruckCount'], name='Truck Counts', marker_color='#d62728'), row=2, col=2)\n",
    "\n",
    "fig.update_layout(title_text='Vehicle Counts by Hour', title_x=0.5, showlegend=False, template='plotly_white')\n",
    "fig.update_xaxes(title_text=\"Hour\")\n",
    "fig.update_yaxes(title_text=\"Count\")\n",
    "fig.show(renderer=\"browser\")"
   ]
  },
  {
   "cell_type": "markdown",
   "id": "344f00e3",
   "metadata": {},
   "source": [
    "![alt text](TotalvehicleCountByHour.png \"Title\")"
   ]
  },
  {
   "cell_type": "code",
   "execution_count": 133,
   "id": "2e531025",
   "metadata": {
    "execution": {
     "iopub.execute_input": "2024-08-02T20:31:12.237743Z",
     "iopub.status.busy": "2024-08-02T20:31:12.237332Z",
     "iopub.status.idle": "2024-08-02T20:31:12.396729Z",
     "shell.execute_reply": "2024-08-02T20:31:12.395396Z"
    },
    "papermill": {
     "duration": 0.226309,
     "end_time": "2024-08-02T20:31:12.399206",
     "exception": false,
     "start_time": "2024-08-02T20:31:12.172897",
     "status": "completed"
    },
    "tags": []
   },
   "outputs": [],
   "source": [
    "# 26. Average vehicle count for each type change over time\n",
    "# Exclude non-numeric columns from the mean calculation\n",
    "numeric_cols = traffic_df.select_dtypes(include=['number']).columns\n",
    "\n",
    "# Group by 'Time' and calculate the mean for numeric c  olumns\n",
    "avg_time_counts = traffic_df.groupby('Time')[numeric_cols].mean().reset_index()\n",
    "\n",
    "# Create the line plot\n",
    "fig = px.line(avg_time_counts, x='Time', y=['CarCount', 'BikeCount', 'BusCount', 'TruckCount'], title='Average Vehicle Counts Over Time')\n",
    "fig.update_layout(title_text='Average Vehicle Counts Over Time', title_x=0.5, xaxis_title='Time', yaxis_title='Average Count', template='plotly_white')\n",
    "\n",
    "# Display the plot\n",
    "fig.show(renderer=\"browser\")"
   ]
  },
  {
   "cell_type": "markdown",
   "id": "652a04d4",
   "metadata": {},
   "source": [
    "![alt text](AverageVehicleCountOverTime.png \"Title\")"
   ]
  },
  {
   "cell_type": "code",
   "execution_count": 134,
   "id": "9e1d10b2",
   "metadata": {
    "execution": {
     "iopub.execute_input": "2024-08-02T20:31:12.878217Z",
     "iopub.status.busy": "2024-08-02T20:31:12.876986Z",
     "iopub.status.idle": "2024-08-02T20:31:12.900773Z",
     "shell.execute_reply": "2024-08-02T20:31:12.899534Z"
    },
    "papermill": {
     "duration": 0.09329,
     "end_time": "2024-08-02T20:31:12.903322",
     "exception": false,
     "start_time": "2024-08-02T20:31:12.810032",
     "status": "completed"
    },
    "tags": []
   },
   "outputs": [],
   "source": [
    "# Identify and remove outliers\n",
    "def remove_outliers(df, columns):\n",
    "    for col in columns:\n",
    "        Q1 = df[col].quantile(0.25)\n",
    "        Q3 = df[col].quantile(0.75)\n",
    "        IQR = Q3 - Q1\n",
    "        lower_bound = Q1 - 1.5 * IQR\n",
    "        upper_bound = Q3 + 1.5 * IQR\n",
    "        df = df[(df[col] >= lower_bound) & (df[col] <= upper_bound)]\n",
    "    return df\n",
    "\n",
    "vehicle_counts = ['CarCount', 'BikeCount', 'BusCount', 'TruckCount']\n",
    "combined_df = remove_outliers(traffic_df, vehicle_counts)"
   ]
  },
  {
   "cell_type": "code",
   "execution_count": 135,
   "id": "52124a89",
   "metadata": {
    "execution": {
     "iopub.execute_input": "2024-08-02T20:31:13.036158Z",
     "iopub.status.busy": "2024-08-02T20:31:13.035321Z",
     "iopub.status.idle": "2024-08-02T20:31:13.050640Z",
     "shell.execute_reply": "2024-08-02T20:31:13.049287Z"
    },
    "papermill": {
     "duration": 0.084528,
     "end_time": "2024-08-02T20:31:13.053363",
     "exception": false,
     "start_time": "2024-08-02T20:31:12.968835",
     "status": "completed"
    },
    "tags": []
   },
   "outputs": [
    {
     "name": "stdout",
     "output_type": "stream",
     "text": [
      "Missing values in each column:\n",
      "Time                 0\n",
      "Date                 0\n",
      "Day of the week      0\n",
      "CarCount             0\n",
      "BikeCount            0\n",
      "BusCount             0\n",
      "TruckCount           0\n",
      "Total                0\n",
      "Traffic Situation    0\n",
      "Hour                 0\n",
      "Weekend              0\n",
      "dtype: int64\n",
      "Number of duplicate rows: 0\n"
     ]
    }
   ],
   "source": [
    "# Check for missing values and duplicates\n",
    "print(\"Missing values in each column:\")\n",
    "print(combined_df.isnull().sum())\n",
    "\n",
    "print(f\"Number of duplicate rows: {combined_df.duplicated().sum()}\")"
   ]
  },
  {
   "cell_type": "code",
   "execution_count": 136,
   "id": "fe109eda",
   "metadata": {
    "execution": {
     "iopub.execute_input": "2024-08-02T20:31:14.470060Z",
     "iopub.status.busy": "2024-08-02T20:31:14.469667Z",
     "iopub.status.idle": "2024-08-02T20:31:14.510214Z",
     "shell.execute_reply": "2024-08-02T20:31:14.508480Z"
    },
    "papermill": {
     "duration": 0.1099,
     "end_time": "2024-08-02T20:31:14.513130",
     "exception": false,
     "start_time": "2024-08-02T20:31:14.403230",
     "status": "completed"
    },
    "tags": []
   },
   "outputs": [
    {
     "name": "stdout",
     "output_type": "stream",
     "text": [
      "Normality check before normalization:\n",
      "Car count normality: False\n",
      "Bike count normality: False\n",
      "Bus count normality: False\n",
      "Truck count normality: False\n",
      "Normality check after normalization:\n",
      "Car count normality: False\n",
      "Bike count normality: False\n",
      "Bus count normality: False\n",
      "Truck count normality: False\n"
     ]
    }
   ],
   "source": [
    "# Check normality for each vehicle count before normalization\n",
    "def check_normality(data):\n",
    "    stat, p = shapiro(data)\n",
    "    return p > 0.05\n",
    "\n",
    "print(\"Normality check before normalization:\")\n",
    "car_normal = check_normality(combined_df['CarCount'])\n",
    "bike_normal = check_normality(combined_df['BikeCount'])\n",
    "bus_normal = check_normality(combined_df['BusCount'])\n",
    "truck_normal = check_normality(combined_df['TruckCount'])\n",
    "\n",
    "print(f\"Car count normality: {car_normal}\")\n",
    "print(f\"Bike count normality: {bike_normal}\")\n",
    "print(f\"Bus count normality: {bus_normal}\")\n",
    "print(f\"Truck count normality: {truck_normal}\")\n",
    "\n",
    "# Normalize data using QuantileTransformer\n",
    "scaler = QuantileTransformer(output_distribution='normal')\n",
    "combined_df[['CarCount', 'BikeCount', 'BusCount', 'TruckCount']] = scaler.fit_transform(combined_df[['CarCount', 'BikeCount', 'BusCount', 'TruckCount']])\n",
    "\n",
    "# Check normality for each vehicle count after normalization\n",
    "print(\"Normality check after normalization:\")\n",
    "car_normal = check_normality(combined_df['CarCount'])\n",
    "bike_normal = check_normality(combined_df['BikeCount'])\n",
    "bus_normal = check_normality(combined_df['BusCount'])\n",
    "truck_normal = check_normality(combined_df['TruckCount'])\n",
    "\n",
    "print(f\"Car count normality: {car_normal}\")\n",
    "print(f\"Bike count normality: {bike_normal}\")\n",
    "print(f\"Bus count normality: {bus_normal}\")\n",
    "print(f\"Truck count normality: {truck_normal}\")"
   ]
  },
  {
   "cell_type": "code",
   "execution_count": 137,
   "id": "daa28497",
   "metadata": {
    "execution": {
     "iopub.execute_input": "2024-08-02T20:31:14.653011Z",
     "iopub.status.busy": "2024-08-02T20:31:14.652229Z",
     "iopub.status.idle": "2024-08-02T20:31:17.018037Z",
     "shell.execute_reply": "2024-08-02T20:31:17.016879Z"
    },
    "papermill": {
     "duration": 2.437438,
     "end_time": "2024-08-02T20:31:17.020477",
     "exception": false,
     "start_time": "2024-08-02T20:31:14.583039",
     "status": "completed"
    },
    "tags": []
   },
   "outputs": [
    {
     "data": {
      "image/png": "[encoded data removed]",
      "text/plain": [
       "<Figure size 1500x1000 with 4 Axes>"
      ]
     },
     "metadata": {},
     "output_type": "display_data"
    }
   ],
   "source": [
    "# Check distribution after normalization\n",
    "fig, axes = plt.subplots(2, 2, figsize=(15, 10))\n",
    "sns.histplot(combined_df['CarCount'], ax=axes[0, 0], kde=True, color='#1f77b4')\n",
    "sns.histplot(combined_df['BikeCount'], ax=axes[0, 1], kde=True, color='#ff7f0e')\n",
    "sns.histplot(combined_df['BusCount'], ax=axes[1, 0], kde=True, color='#2ca02c')\n",
    "sns.histplot(combined_df['TruckCount'], ax=axes[1, 1], kde=True, color='#d62728')\n",
    "axes[0, 0].set_title('Normalized Car Count')\n",
    "axes[0, 1].set_title('Normalized Bike Count')\n",
    "axes[1, 0].set_title('Normalized Bus Count')\n",
    "axes[1, 1].set_title('Normalized Truck Count')\n",
    "plt.tight_layout()\n",
    "plt.show()"
   ]
  },
  {
   "cell_type": "code",
   "execution_count": 138,
   "id": "14b5fa59",
   "metadata": {
    "execution": {
     "iopub.execute_input": "2024-08-02T20:31:17.304537Z",
     "iopub.status.busy": "2024-08-02T20:31:17.303577Z",
     "iopub.status.idle": "2024-08-02T20:31:17.313066Z",
     "shell.execute_reply": "2024-08-02T20:31:17.311858Z"
    },
    "papermill": {
     "duration": 0.083476,
     "end_time": "2024-08-02T20:31:17.315693",
     "exception": false,
     "start_time": "2024-08-02T20:31:17.232217",
     "status": "completed"
    },
    "tags": []
   },
   "outputs": [],
   "source": [
    "# Prepare the features and target\n",
    "X = combined_df.drop(columns=['Traffic Situation'])\n",
    "y = combined_df['Traffic Situation']"
   ]
  },
  {
   "cell_type": "code",
   "execution_count": 139,
   "id": "de925e96",
   "metadata": {
    "execution": {
     "iopub.execute_input": "2024-08-02T20:31:17.453837Z",
     "iopub.status.busy": "2024-08-02T20:31:17.453307Z",
     "iopub.status.idle": "2024-08-02T20:31:17.464597Z",
     "shell.execute_reply": "2024-08-02T20:31:17.463480Z"
    },
    "papermill": {
     "duration": 0.083402,
     "end_time": "2024-08-02T20:31:17.467152",
     "exception": false,
     "start_time": "2024-08-02T20:31:17.383750",
     "status": "completed"
    },
    "tags": []
   },
   "outputs": [],
   "source": [
    "# Split the data into training and testing sets\n",
    "X_train, X_test, y_train, y_test = train_test_split(X, y, test_size=0.2, random_state=42)"
   ]
  },
  {
   "cell_type": "code",
   "execution_count": 140,
   "id": "ec0b0aa7",
   "metadata": {
    "execution": {
     "iopub.execute_input": "2024-08-02T20:31:17.611530Z",
     "iopub.status.busy": "2024-08-02T20:31:17.610393Z",
     "iopub.status.idle": "2024-08-02T20:31:17.616829Z",
     "shell.execute_reply": "2024-08-02T20:31:17.615728Z"
    },
    "papermill": {
     "duration": 0.081415,
     "end_time": "2024-08-02T20:31:17.619170",
     "exception": false,
     "start_time": "2024-08-02T20:31:17.537755",
     "status": "completed"
    },
    "tags": []
   },
   "outputs": [],
   "source": [
    "# Preprocessing pipeline for numeric and categorical features\n",
    "numeric_features = ['CarCount', 'BikeCount', 'BusCount', 'TruckCount', 'Total', 'Hour']\n",
    "categorical_features = ['Time', 'Date', 'Day of the week', 'Weekend']\n",
    "\n",
    "preprocessor = ColumnTransformer(\n",
    "    transformers=[\n",
    "        ('num', StandardScaler(), numeric_features),\n",
    "        ('cat', OneHotEncoder(), categorical_features)\n",
    "    ])"
   ]
  },
  {
   "cell_type": "code",
   "execution_count": 141,
   "id": "b07c43ad",
   "metadata": {
    "execution": {
     "iopub.execute_input": "2024-08-02T20:31:17.760273Z",
     "iopub.status.busy": "2024-08-02T20:31:17.759860Z",
     "iopub.status.idle": "2024-08-02T20:31:20.134097Z",
     "shell.execute_reply": "2024-08-02T20:31:20.132712Z"
    },
    "papermill": {
     "duration": 2.450475,
     "end_time": "2024-08-02T20:31:20.137229",
     "exception": false,
     "start_time": "2024-08-02T20:31:17.686754",
     "status": "completed"
    },
    "tags": []
   },
   "outputs": [
    {
     "data": {
      "text/html": [
       "<style>#sk-container-id-5 {\n",
       "  /* Definition of color scheme common for light and dark mode */\n",
       "  --sklearn-color-text: black;\n",
       "  --sklearn-color-line: gray;\n",
       "  /* Definition of color scheme for unfitted estimators */\n",
       "  --sklearn-color-unfitted-level-0: #fff5e6;\n",
       "  --sklearn-color-unfitted-level-1: #f6e4d2;\n",
       "  --sklearn-color-unfitted-level-2: #ffe0b3;\n",
       "  --sklearn-color-unfitted-level-3: chocolate;\n",
       "  /* Definition of color scheme for fitted estimators */\n",
       "  --sklearn-color-fitted-level-0: #f0f8ff;\n",
       "  --sklearn-color-fitted-level-1: #d4ebff;\n",
       "  --sklearn-color-fitted-level-2: #b3dbfd;\n",
       "  --sklearn-color-fitted-level-3: cornflowerblue;\n",
       "\n",
       "  /* Specific color for light theme */\n",
       "  --sklearn-color-text-on-default-background: var(--sg-text-color, var(--theme-code-foreground, var(--jp-content-font-color1, black)));\n",
       "  --sklearn-color-background: var(--sg-background-color, var(--theme-background, var(--jp-layout-color0, white)));\n",
       "  --sklearn-color-border-box: var(--sg-text-color, var(--theme-code-foreground, var(--jp-content-font-color1, black)));\n",
       "  --sklearn-color-icon: #696969;\n",
       "\n",
       "  @media (prefers-color-scheme: dark) {\n",
       "    /* Redefinition of color scheme for dark theme */\n",
       "    --sklearn-color-text-on-default-background: var(--sg-text-color, var(--theme-code-foreground, var(--jp-content-font-color1, white)));\n",
       "    --sklearn-color-background: var(--sg-background-color, var(--theme-background, var(--jp-layout-color0, #111)));\n",
       "    --sklearn-color-border-box: var(--sg-text-color, var(--theme-code-foreground, var(--jp-content-font-color1, white)));\n",
       "    --sklearn-color-icon: #878787;\n",
       "  }\n",
       "}\n",
       "\n",
       "#sk-container-id-5 {\n",
       "  color: var(--sklearn-color-text);\n",
       "}\n",
       "\n",
       "#sk-container-id-5 pre {\n",
       "  padding: 0;\n",
       "}\n",
       "\n",
       "#sk-container-id-5 input.sk-hidden--visually {\n",
       "  border: 0;\n",
       "  clip: rect(1px 1px 1px 1px);\n",
       "  clip: rect(1px, 1px, 1px, 1px);\n",
       "  height: 1px;\n",
       "  margin: -1px;\n",
       "  overflow: hidden;\n",
       "  padding: 0;\n",
       "  position: absolute;\n",
       "  width: 1px;\n",
       "}\n",
       "\n",
       "#sk-container-id-5 div.sk-dashed-wrapped {\n",
       "  border: 1px dashed var(--sklearn-color-line);\n",
       "  margin: 0 0.4em 0.5em 0.4em;\n",
       "  box-sizing: border-box;\n",
       "  padding-bottom: 0.4em;\n",
       "  background-color: var(--sklearn-color-background);\n",
       "}\n",
       "\n",
       "#sk-container-id-5 div.sk-container {\n",
       "  /* jupyter's `normalize.less` sets `[hidden] { display: none; }`\n",
       "     but bootstrap.min.css set `[hidden] { display: none !important; }`\n",
       "     so we also need the `!important` here to be able to override the\n",
       "     default hidden behavior on the sphinx rendered scikit-learn.org.\n",
       "     See: https://github.com/scikit-learn/scikit-learn/issues/21755 */\n",
       "  display: inline-block !important;\n",
       "  position: relative;\n",
       "}\n",
       "\n",
       "#sk-container-id-5 div.sk-text-repr-fallback {\n",
       "  display: none;\n",
       "}\n",
       "\n",
       "div.sk-parallel-item,\n",
       "div.sk-serial,\n",
       "div.sk-item {\n",
       "  /* draw centered vertical line to link estimators */\n",
       "  background-image: linear-gradient(var(--sklearn-color-text-on-default-background), var(--sklearn-color-text-on-default-background));\n",
       "  background-size: 2px 100%;\n",
       "  background-repeat: no-repeat;\n",
       "  background-position: center center;\n",
       "}\n",
       "\n",
       "/* Parallel-specific style estimator block */\n",
       "\n",
       "#sk-container-id-5 div.sk-parallel-item::after {\n",
       "  content: \"\";\n",
       "  width: 100%;\n",
       "  border-bottom: 2px solid var(--sklearn-color-text-on-default-background);\n",
       "  flex-grow: 1;\n",
       "}\n",
       "\n",
       "#sk-container-id-5 div.sk-parallel {\n",
       "  display: flex;\n",
       "  align-items: stretch;\n",
       "  justify-content: center;\n",
       "  background-color: var(--sklearn-color-background);\n",
       "  position: relative;\n",
       "}\n",
       "\n",
       "#sk-container-id-5 div.sk-parallel-item {\n",
       "  display: flex;\n",
       "  flex-direction: column;\n",
       "}\n",
       "\n",
       "#sk-container-id-5 div.sk-parallel-item:first-child::after {\n",
       "  align-self: flex-end;\n",
       "  width: 50%;\n",
       "}\n",
       "\n",
       "#sk-container-id-5 div.sk-parallel-item:last-child::after {\n",
       "  align-self: flex-start;\n",
       "  width: 50%;\n",
       "}\n",
       "\n",
       "#sk-container-id-5 div.sk-parallel-item:only-child::after {\n",
       "  width: 0;\n",
       "}\n",
       "\n",
       "/* Serial-specific style estimator block */\n",
       "\n",
       "#sk-container-id-5 div.sk-serial {\n",
       "  display: flex;\n",
       "  flex-direction: column;\n",
       "  align-items: center;\n",
       "  background-color: var(--sklearn-color-background);\n",
       "  padding-right: 1em;\n",
       "  padding-left: 1em;\n",
       "}\n",
       "\n",
       "\n",
       "/* Toggleable style: style used for estimator/Pipeline/ColumnTransformer box that is\n",
       "clickable and can be expanded/collapsed.\n",
       "- Pipeline and ColumnTransformer use this feature and define the default style\n",
       "- Estimators will overwrite some part of the style using the `sk-estimator` class\n",
       "*/\n",
       "\n",
       "/* Pipeline and ColumnTransformer style (default) */\n",
       "\n",
       "#sk-container-id-5 div.sk-toggleable {\n",
       "  /* Default theme specific background. It is overwritten whether we have a\n",
       "  specific estimator or a Pipeline/ColumnTransformer */\n",
       "  background-color: var(--sklearn-color-background);\n",
       "}\n",
       "\n",
       "/* Toggleable label */\n",
       "#sk-container-id-5 label.sk-toggleable__label {\n",
       "  cursor: pointer;\n",
       "  display: block;\n",
       "  width: 100%;\n",
       "  margin-bottom: 0;\n",
       "  padding: 0.5em;\n",
       "  box-sizing: border-box;\n",
       "  text-align: center;\n",
       "}\n",
       "\n",
       "#sk-container-id-5 label.sk-toggleable__label-arrow:before {\n",
       "  /* Arrow on the left of the label */\n",
       "  content: \"▸\";\n",
       "  float: left;\n",
       "  margin-right: 0.25em;\n",
       "  color: var(--sklearn-color-icon);\n",
       "}\n",
       "\n",
       "#sk-container-id-5 label.sk-toggleable__label-arrow:hover:before {\n",
       "  color: var(--sklearn-color-text);\n",
       "}\n",
       "\n",
       "/* Toggleable content - dropdown */\n",
       "\n",
       "#sk-container-id-5 div.sk-toggleable__content {\n",
       "  max-height: 0;\n",
       "  max-width: 0;\n",
       "  overflow: hidden;\n",
       "  text-align: left;\n",
       "  /* unfitted */\n",
       "  background-color: var(--sklearn-color-unfitted-level-0);\n",
       "}\n",
       "\n",
       "#sk-container-id-5 div.sk-toggleable__content.fitted {\n",
       "  /* fitted */\n",
       "  background-color: var(--sklearn-color-fitted-level-0);\n",
       "}\n",
       "\n",
       "#sk-container-id-5 div.sk-toggleable__content pre {\n",
       "  margin: 0.2em;\n",
       "  border-radius: 0.25em;\n",
       "  color: var(--sklearn-color-text);\n",
       "  /* unfitted */\n",
       "  background-color: var(--sklearn-color-unfitted-level-0);\n",
       "}\n",
       "\n",
       "#sk-container-id-5 div.sk-toggleable__content.fitted pre {\n",
       "  /* unfitted */\n",
       "  background-color: var(--sklearn-color-fitted-level-0);\n",
       "}\n",
       "\n",
       "#sk-container-id-5 input.sk-toggleable__control:checked~div.sk-toggleable__content {\n",
       "  /* Expand drop-down */\n",
       "  max-height: 200px;\n",
       "  max-width: 100%;\n",
       "  overflow: auto;\n",
       "}\n",
       "\n",
       "#sk-container-id-5 input.sk-toggleable__control:checked~label.sk-toggleable__label-arrow:before {\n",
       "  content: \"▾\";\n",
       "}\n",
       "\n",
       "/* Pipeline/ColumnTransformer-specific style */\n",
       "\n",
       "#sk-container-id-5 div.sk-label input.sk-toggleable__control:checked~label.sk-toggleable__label {\n",
       "  color: var(--sklearn-color-text);\n",
       "  background-color: var(--sklearn-color-unfitted-level-2);\n",
       "}\n",
       "\n",
       "#sk-container-id-5 div.sk-label.fitted input.sk-toggleable__control:checked~label.sk-toggleable__label {\n",
       "  background-color: var(--sklearn-color-fitted-level-2);\n",
       "}\n",
       "\n",
       "/* Estimator-specific style */\n",
       "\n",
       "/* Colorize estimator box */\n",
       "#sk-container-id-5 div.sk-estimator input.sk-toggleable__control:checked~label.sk-toggleable__label {\n",
       "  /* unfitted */\n",
       "  background-color: var(--sklearn-color-unfitted-level-2);\n",
       "}\n",
       "\n",
       "#sk-container-id-5 div.sk-estimator.fitted input.sk-toggleable__control:checked~label.sk-toggleable__label {\n",
       "  /* fitted */\n",
       "  background-color: var(--sklearn-color-fitted-level-2);\n",
       "}\n",
       "\n",
       "#sk-container-id-5 div.sk-label label.sk-toggleable__label,\n",
       "#sk-container-id-5 div.sk-label label {\n",
       "  /* The background is the default theme color */\n",
       "  color: var(--sklearn-color-text-on-default-background);\n",
       "}\n",
       "\n",
       "/* On hover, darken the color of the background */\n",
       "#sk-container-id-5 div.sk-label:hover label.sk-toggleable__label {\n",
       "  color: var(--sklearn-color-text);\n",
       "  background-color: var(--sklearn-color-unfitted-level-2);\n",
       "}\n",
       "\n",
       "/* Label box, darken color on hover, fitted */\n",
       "#sk-container-id-5 div.sk-label.fitted:hover label.sk-toggleable__label.fitted {\n",
       "  color: var(--sklearn-color-text);\n",
       "  background-color: var(--sklearn-color-fitted-level-2);\n",
       "}\n",
       "\n",
       "/* Estimator label */\n",
       "\n",
       "#sk-container-id-5 div.sk-label label {\n",
       "  font-family: monospace;\n",
       "  font-weight: bold;\n",
       "  display: inline-block;\n",
       "  line-height: 1.2em;\n",
       "}\n",
       "\n",
       "#sk-container-id-5 div.sk-label-container {\n",
       "  text-align: center;\n",
       "}\n",
       "\n",
       "/* Estimator-specific */\n",
       "#sk-container-id-5 div.sk-estimator {\n",
       "  font-family: monospace;\n",
       "  border: 1px dotted var(--sklearn-color-border-box);\n",
       "  border-radius: 0.25em;\n",
       "  box-sizing: border-box;\n",
       "  margin-bottom: 0.5em;\n",
       "  /* unfitted */\n",
       "  background-color: var(--sklearn-color-unfitted-level-0);\n",
       "}\n",
       "\n",
       "#sk-container-id-5 div.sk-estimator.fitted {\n",
       "  /* fitted */\n",
       "  background-color: var(--sklearn-color-fitted-level-0);\n",
       "}\n",
       "\n",
       "/* on hover */\n",
       "#sk-container-id-5 div.sk-estimator:hover {\n",
       "  /* unfitted */\n",
       "  background-color: var(--sklearn-color-unfitted-level-2);\n",
       "}\n",
       "\n",
       "#sk-container-id-5 div.sk-estimator.fitted:hover {\n",
       "  /* fitted */\n",
       "  background-color: var(--sklearn-color-fitted-level-2);\n",
       "}\n",
       "\n",
       "/* Specification for estimator info (e.g. \"i\" and \"?\") */\n",
       "\n",
       "/* Common style for \"i\" and \"?\" */\n",
       "\n",
       ".sk-estimator-doc-link,\n",
       "a:link.sk-estimator-doc-link,\n",
       "a:visited.sk-estimator-doc-link {\n",
       "  float: right;\n",
       "  font-size: smaller;\n",
       "  line-height: 1em;\n",
       "  font-family: monospace;\n",
       "  background-color: var(--sklearn-color-background);\n",
       "  border-radius: 1em;\n",
       "  height: 1em;\n",
       "  width: 1em;\n",
       "  text-decoration: none !important;\n",
       "  margin-left: 1ex;\n",
       "  /* unfitted */\n",
       "  border: var(--sklearn-color-unfitted-level-1) 1pt solid;\n",
       "  color: var(--sklearn-color-unfitted-level-1);\n",
       "}\n",
       "\n",
       ".sk-estimator-doc-link.fitted,\n",
       "a:link.sk-estimator-doc-link.fitted,\n",
       "a:visited.sk-estimator-doc-link.fitted {\n",
       "  /* fitted */\n",
       "  border: var(--sklearn-color-fitted-level-1) 1pt solid;\n",
       "  color: var(--sklearn-color-fitted-level-1);\n",
       "}\n",
       "\n",
       "/* On hover */\n",
       "div.sk-estimator:hover .sk-estimator-doc-link:hover,\n",
       ".sk-estimator-doc-link:hover,\n",
       "div.sk-label-container:hover .sk-estimator-doc-link:hover,\n",
       ".sk-estimator-doc-link:hover {\n",
       "  /* unfitted */\n",
       "  background-color: var(--sklearn-color-unfitted-level-3);\n",
       "  color: var(--sklearn-color-background);\n",
       "  text-decoration: none;\n",
       "}\n",
       "\n",
       "div.sk-estimator.fitted:hover .sk-estimator-doc-link.fitted:hover,\n",
       ".sk-estimator-doc-link.fitted:hover,\n",
       "div.sk-label-container:hover .sk-estimator-doc-link.fitted:hover,\n",
       ".sk-estimator-doc-link.fitted:hover {\n",
       "  /* fitted */\n",
       "  background-color: var(--sklearn-color-fitted-level-3);\n",
       "  color: var(--sklearn-color-background);\n",
       "  text-decoration: none;\n",
       "}\n",
       "\n",
       "/* Span, style for the box shown on hovering the info icon */\n",
       ".sk-estimator-doc-link span {\n",
       "  display: none;\n",
       "  z-index: 9999;\n",
       "  position: relative;\n",
       "  font-weight: normal;\n",
       "  right: .2ex;\n",
       "  padding: .5ex;\n",
       "  margin: .5ex;\n",
       "  width: min-content;\n",
       "  min-width: 20ex;\n",
       "  max-width: 50ex;\n",
       "  color: var(--sklearn-color-text);\n",
       "  box-shadow: 2pt 2pt 4pt #999;\n",
       "  /* unfitted */\n",
       "  background: var(--sklearn-color-unfitted-level-0);\n",
       "  border: .5pt solid var(--sklearn-color-unfitted-level-3);\n",
       "}\n",
       "\n",
       ".sk-estimator-doc-link.fitted span {\n",
       "  /* fitted */\n",
       "  background: var(--sklearn-color-fitted-level-0);\n",
       "  border: var(--sklearn-color-fitted-level-3);\n",
       "}\n",
       "\n",
       ".sk-estimator-doc-link:hover span {\n",
       "  display: block;\n",
       "}\n",
       "\n",
       "/* \"?\"-specific style due to the `<a>` HTML tag */\n",
       "\n",
       "#sk-container-id-5 a.estimator_doc_link {\n",
       "  float: right;\n",
       "  font-size: 1rem;\n",
       "  line-height: 1em;\n",
       "  font-family: monospace;\n",
       "  background-color: var(--sklearn-color-background);\n",
       "  border-radius: 1rem;\n",
       "  height: 1rem;\n",
       "  width: 1rem;\n",
       "  text-decoration: none;\n",
       "  /* unfitted */\n",
       "  color: var(--sklearn-color-unfitted-level-1);\n",
       "  border: var(--sklearn-color-unfitted-level-1) 1pt solid;\n",
       "}\n",
       "\n",
       "#sk-container-id-5 a.estimator_doc_link.fitted {\n",
       "  /* fitted */\n",
       "  border: var(--sklearn-color-fitted-level-1) 1pt solid;\n",
       "  color: var(--sklearn-color-fitted-level-1);\n",
       "}\n",
       "\n",
       "/* On hover */\n",
       "#sk-container-id-5 a.estimator_doc_link:hover {\n",
       "  /* unfitted */\n",
       "  background-color: var(--sklearn-color-unfitted-level-3);\n",
       "  color: var(--sklearn-color-background);\n",
       "  text-decoration: none;\n",
       "}\n",
       "\n",
       "#sk-container-id-5 a.estimator_doc_link.fitted:hover {\n",
       "  /* fitted */\n",
       "  background-color: var(--sklearn-color-fitted-level-3);\n",
       "}\n",
       "</style><div id=\"sk-container-id-5\" class=\"sk-top-container\"><div class=\"sk-text-repr-fallback\"><pre>Pipeline(steps=[(&#x27;preprocessor&#x27;,\n",
       "                 ColumnTransformer(transformers=[(&#x27;num&#x27;, StandardScaler(),\n",
       "                                                  [&#x27;CarCount&#x27;, &#x27;BikeCount&#x27;,\n",
       "                                                   &#x27;BusCount&#x27;, &#x27;TruckCount&#x27;,\n",
       "                                                   &#x27;Total&#x27;, &#x27;Hour&#x27;]),\n",
       "                                                 (&#x27;cat&#x27;, OneHotEncoder(),\n",
       "                                                  [&#x27;Time&#x27;, &#x27;Date&#x27;,\n",
       "                                                   &#x27;Day of the week&#x27;,\n",
       "                                                   &#x27;Weekend&#x27;])])),\n",
       "                (&#x27;classifier&#x27;, RandomForestClassifier(random_state=42))])</pre><b>In a Jupyter environment, please rerun this cell to show the HTML representation or trust the notebook. <br />On GitHub, the HTML representation is unable to render, please try loading this page with nbviewer.org.</b></div><div class=\"sk-container\" hidden><div class=\"sk-item sk-dashed-wrapped\"><div class=\"sk-label-container\"><div class=\"sk-label fitted sk-toggleable\"><input class=\"sk-toggleable__control sk-hidden--visually\" id=\"sk-estimator-id-29\" type=\"checkbox\" ><label for=\"sk-estimator-id-29\" class=\"sk-toggleable__label fitted sk-toggleable__label-arrow fitted\">&nbsp;&nbsp;Pipeline<a class=\"sk-estimator-doc-link fitted\" rel=\"noreferrer\" target=\"_blank\" href=\"https://scikit-learn.org/1.5/modules/generated/sklearn.pipeline.Pipeline.html\">?<span>Documentation for Pipeline</span></a><span class=\"sk-estimator-doc-link fitted\">i<span>Fitted</span></span></label><div class=\"sk-toggleable__content fitted\"><pre>Pipeline(steps=[(&#x27;preprocessor&#x27;,\n",
       "                 ColumnTransformer(transformers=[(&#x27;num&#x27;, StandardScaler(),\n",
       "                                                  [&#x27;CarCount&#x27;, &#x27;BikeCount&#x27;,\n",
       "                                                   &#x27;BusCount&#x27;, &#x27;TruckCount&#x27;,\n",
       "                                                   &#x27;Total&#x27;, &#x27;Hour&#x27;]),\n",
       "                                                 (&#x27;cat&#x27;, OneHotEncoder(),\n",
       "                                                  [&#x27;Time&#x27;, &#x27;Date&#x27;,\n",
       "                                                   &#x27;Day of the week&#x27;,\n",
       "                                                   &#x27;Weekend&#x27;])])),\n",
       "                (&#x27;classifier&#x27;, RandomForestClassifier(random_state=42))])</pre></div> </div></div><div class=\"sk-serial\"><div class=\"sk-item sk-dashed-wrapped\"><div class=\"sk-label-container\"><div class=\"sk-label fitted sk-toggleable\"><input class=\"sk-toggleable__control sk-hidden--visually\" id=\"sk-estimator-id-30\" type=\"checkbox\" ><label for=\"sk-estimator-id-30\" class=\"sk-toggleable__label fitted sk-toggleable__label-arrow fitted\">&nbsp;preprocessor: ColumnTransformer<a class=\"sk-estimator-doc-link fitted\" rel=\"noreferrer\" target=\"_blank\" href=\"https://scikit-learn.org/1.5/modules/generated/sklearn.compose.ColumnTransformer.html\">?<span>Documentation for preprocessor: ColumnTransformer</span></a></label><div class=\"sk-toggleable__content fitted\"><pre>ColumnTransformer(transformers=[(&#x27;num&#x27;, StandardScaler(),\n",
       "                                 [&#x27;CarCount&#x27;, &#x27;BikeCount&#x27;, &#x27;BusCount&#x27;,\n",
       "                                  &#x27;TruckCount&#x27;, &#x27;Total&#x27;, &#x27;Hour&#x27;]),\n",
       "                                (&#x27;cat&#x27;, OneHotEncoder(),\n",
       "                                 [&#x27;Time&#x27;, &#x27;Date&#x27;, &#x27;Day of the week&#x27;,\n",
       "                                  &#x27;Weekend&#x27;])])</pre></div> </div></div><div class=\"sk-parallel\"><div class=\"sk-parallel-item\"><div class=\"sk-item\"><div class=\"sk-label-container\"><div class=\"sk-label fitted sk-toggleable\"><input class=\"sk-toggleable__control sk-hidden--visually\" id=\"sk-estimator-id-31\" type=\"checkbox\" ><label for=\"sk-estimator-id-31\" class=\"sk-toggleable__label fitted sk-toggleable__label-arrow fitted\">num</label><div class=\"sk-toggleable__content fitted\"><pre>[&#x27;CarCount&#x27;, &#x27;BikeCount&#x27;, &#x27;BusCount&#x27;, &#x27;TruckCount&#x27;, &#x27;Total&#x27;, &#x27;Hour&#x27;]</pre></div> </div></div><div class=\"sk-serial\"><div class=\"sk-item\"><div class=\"sk-estimator fitted sk-toggleable\"><input class=\"sk-toggleable__control sk-hidden--visually\" id=\"sk-estimator-id-32\" type=\"checkbox\" ><label for=\"sk-estimator-id-32\" class=\"sk-toggleable__label fitted sk-toggleable__label-arrow fitted\">&nbsp;StandardScaler<a class=\"sk-estimator-doc-link fitted\" rel=\"noreferrer\" target=\"_blank\" href=\"https://scikit-learn.org/1.5/modules/generated/sklearn.preprocessing.StandardScaler.html\">?<span>Documentation for StandardScaler</span></a></label><div class=\"sk-toggleable__content fitted\"><pre>StandardScaler()</pre></div> </div></div></div></div></div><div class=\"sk-parallel-item\"><div class=\"sk-item\"><div class=\"sk-label-container\"><div class=\"sk-label fitted sk-toggleable\"><input class=\"sk-toggleable__control sk-hidden--visually\" id=\"sk-estimator-id-33\" type=\"checkbox\" ><label for=\"sk-estimator-id-33\" class=\"sk-toggleable__label fitted sk-toggleable__label-arrow fitted\">cat</label><div class=\"sk-toggleable__content fitted\"><pre>[&#x27;Time&#x27;, &#x27;Date&#x27;, &#x27;Day of the week&#x27;, &#x27;Weekend&#x27;]</pre></div> </div></div><div class=\"sk-serial\"><div class=\"sk-item\"><div class=\"sk-estimator fitted sk-toggleable\"><input class=\"sk-toggleable__control sk-hidden--visually\" id=\"sk-estimator-id-34\" type=\"checkbox\" ><label for=\"sk-estimator-id-34\" class=\"sk-toggleable__label fitted sk-toggleable__label-arrow fitted\">&nbsp;OneHotEncoder<a class=\"sk-estimator-doc-link fitted\" rel=\"noreferrer\" target=\"_blank\" href=\"https://scikit-learn.org/1.5/modules/generated/sklearn.preprocessing.OneHotEncoder.html\">?<span>Documentation for OneHotEncoder</span></a></label><div class=\"sk-toggleable__content fitted\"><pre>OneHotEncoder()</pre></div> </div></div></div></div></div></div></div><div class=\"sk-item\"><div class=\"sk-estimator fitted sk-toggleable\"><input class=\"sk-toggleable__control sk-hidden--visually\" id=\"sk-estimator-id-35\" type=\"checkbox\" ><label for=\"sk-estimator-id-35\" class=\"sk-toggleable__label fitted sk-toggleable__label-arrow fitted\">&nbsp;RandomForestClassifier<a class=\"sk-estimator-doc-link fitted\" rel=\"noreferrer\" target=\"_blank\" href=\"https://scikit-learn.org/1.5/modules/generated/sklearn.ensemble.RandomForestClassifier.html\">?<span>Documentation for RandomForestClassifier</span></a></label><div class=\"sk-toggleable__content fitted\"><pre>RandomForestClassifier(random_state=42)</pre></div> </div></div></div></div></div></div>"
      ],
      "text/plain": [
       "Pipeline(steps=[('preprocessor',\n",
       "                 ColumnTransformer(transformers=[('num', StandardScaler(),\n",
       "                                                  ['CarCount', 'BikeCount',\n",
       "                                                   'BusCount', 'TruckCount',\n",
       "                                                   'Total', 'Hour']),\n",
       "                                                 ('cat', OneHotEncoder(),\n",
       "                                                  ['Time', 'Date',\n",
       "                                                   'Day of the week',\n",
       "                                                   'Weekend'])])),\n",
       "                ('classifier', RandomForestClassifier(random_state=42))])"
      ]
     },
     "execution_count": 141,
     "metadata": {},
     "output_type": "execute_result"
    }
   ],
   "source": [
    "# Define the model pipeline\n",
    "model = Pipeline(steps=[\n",
    "    ('preprocessor', preprocessor),\n",
    "    ('classifier', RandomForestClassifier(random_state=42))\n",
    "])\n",
    "\n",
    "# Train the model\n",
    "model.fit(X_train, y_train)"
   ]
  },
  {
   "cell_type": "code",
   "execution_count": 142,
   "id": "b95edfea",
   "metadata": {
    "execution": {
     "iopub.execute_input": "2024-08-02T20:31:20.420118Z",
     "iopub.status.busy": "2024-08-02T20:31:20.419746Z",
     "iopub.status.idle": "2024-08-02T20:31:20.477179Z",
     "shell.execute_reply": "2024-08-02T20:31:20.475730Z"
    },
    "papermill": {
     "duration": 0.131838,
     "end_time": "2024-08-02T20:31:20.479730",
     "exception": false,
     "start_time": "2024-08-02T20:31:20.347892",
     "status": "completed"
    },
    "tags": []
   },
   "outputs": [],
   "source": [
    "# Make predictions\n",
    "y_pred = model.predict(X_test)"
   ]
  },
  {
   "cell_type": "code",
   "execution_count": 143,
   "id": "8328fb0e",
   "metadata": {
    "execution": {
     "iopub.execute_input": "2024-08-02T20:31:20.620317Z",
     "iopub.status.busy": "2024-08-02T20:31:20.619339Z",
     "iopub.status.idle": "2024-08-02T20:31:20.638383Z",
     "shell.execute_reply": "2024-08-02T20:31:20.637197Z"
    },
    "papermill": {
     "duration": 0.092189,
     "end_time": "2024-08-02T20:31:20.640911",
     "exception": false,
     "start_time": "2024-08-02T20:31:20.548722",
     "status": "completed"
    },
    "tags": []
   },
   "outputs": [
    {
     "name": "stdout",
     "output_type": "stream",
     "text": [
      "Model Accuracy: 0.9844827586206897\n",
      "Classification Report:\n",
      "              precision    recall  f1-score   support\n",
      "\n",
      "       heavy       0.99      1.00      1.00       118\n",
      "        high       0.98      0.95      0.97        61\n",
      "         low       1.00      0.93      0.97        61\n",
      "      normal       0.98      0.99      0.99       340\n",
      "\n",
      "    accuracy                           0.98       580\n",
      "   macro avg       0.99      0.97      0.98       580\n",
      "weighted avg       0.98      0.98      0.98       580\n",
      "\n"
     ]
    }
   ],
   "source": [
    "# Evaluate the model\n",
    "print(\"Model Accuracy:\", accuracy_score(y_test, y_pred))\n",
    "print(\"Classification Report:\")\n",
    "print(classification_report(y_test, y_pred))"
   ]
  },
  {
   "cell_type": "code",
   "execution_count": 144,
   "id": "7fdfba53",
   "metadata": {
    "execution": {
     "iopub.execute_input": "2024-08-02T20:31:20.784179Z",
     "iopub.status.busy": "2024-08-02T20:31:20.783820Z",
     "iopub.status.idle": "2024-08-02T20:31:20.799305Z",
     "shell.execute_reply": "2024-08-02T20:31:20.797858Z"
    },
    "papermill": {
     "duration": 0.089855,
     "end_time": "2024-08-02T20:31:20.802129",
     "exception": false,
     "start_time": "2024-08-02T20:31:20.712274",
     "status": "completed"
    },
    "tags": []
   },
   "outputs": [],
   "source": [
    "# Inverse transform the normalized values to their original scale\n",
    "inverse_transformed_data = scaler.inverse_transform(combined_df[['CarCount', 'BikeCount', 'BusCount', 'TruckCount']])\n",
    "combined_df[['CarCount', 'BikeCount', 'BusCount', 'TruckCount']] = inverse_transformed_data"
   ]
  },
  {
   "cell_type": "code",
   "execution_count": 145,
   "id": "92b778f5",
   "metadata": {
    "execution": {
     "iopub.execute_input": "2024-08-02T20:31:20.943843Z",
     "iopub.status.busy": "2024-08-02T20:31:20.943013Z",
     "iopub.status.idle": "2024-08-02T20:31:20.966364Z",
     "shell.execute_reply": "2024-08-02T20:31:20.964631Z"
    },
    "papermill": {
     "duration": 0.095134,
     "end_time": "2024-08-02T20:31:20.968860",
     "exception": false,
     "start_time": "2024-08-02T20:31:20.873726",
     "status": "completed"
    },
    "tags": []
   },
   "outputs": [
    {
     "name": "stdout",
     "output_type": "stream",
     "text": [
      "Input features: {'Time': '8:15:00 AM', 'Date': 31, 'Day of the week': 'Tuesday', 'CarCount': 0.8161498870226592, 'BikeCount': 1.6159454578478447, 'BusCount': 1.0955556636289012, 'TruckCount': -5.199337582605575, 'Total': 179, 'Hour': 8, 'Weekend': False}\n",
      "Predicted output for input features: ['heavy']\n"
     ]
    }
   ],
   "source": [
    "# Check some predictions with the inverse-transformed data\n",
    "input_features = X_test.iloc[9].to_dict()\n",
    "input_features_df = pd.DataFrame([input_features])\n",
    "\n",
    "predicted_output = model.predict(input_features_df)\n",
    "print(f\"Input features: {input_features}\")\n",
    "print(f\"Predicted output for input features: {predicted_output}\")"
   ]
  },
  {
   "cell_type": "code",
   "execution_count": 146,
   "id": "2e378505",
   "metadata": {},
   "outputs": [
    {
     "data": {
      "text/plain": [
       "['model.joblib']"
      ]
     },
     "execution_count": 146,
     "metadata": {},
     "output_type": "execute_result"
    }
   ],
   "source": [
    "import joblib\n",
    "joblib.dump(model, 'model.joblib')"
   ]
  }
 ],
 "metadata": {
  "kaggle": {
   "accelerator": "none",
   "dataSources": [
    {
     "datasetId": 3860551,
     "sourceId": 7133957,
     "sourceType": "datasetVersion"
    }
   ],
   "dockerImageVersionId": 30746,
   "isGpuEnabled": false,
   "isInternetEnabled": true,
   "language": "python",
   "sourceType": "notebook"
  },
  "kernelspec": {
   "display_name": "major-project-env",
   "language": "python",
   "name": "python3"
  },
  "language_info": {
   "codemirror_mode": {
    "name": "ipython",
    "version": 3
   },
   "file_extension": ".py",
   "mimetype": "text/x-python",
   "name": "python",
   "nbconvert_exporter": "python",
   "pygments_lexer": "ipython3",
   "version": "3.11.10"
  },
  "papermill": {
   "default_parameters": {},
   "duration": 22.554415,
   "end_time": "2024-08-02T20:31:22.137308",
   "environment_variables": {},
   "exception": null,
   "input_path": "__notebook__.ipynb",
   "output_path": "__notebook__.ipynb",
   "parameters": {},
   "start_time": "2024-08-02T20:30:59.582893",
   "version": "2.5.0"
  }
 },
 "nbformat": 4,
 "nbformat_minor": 5
}
